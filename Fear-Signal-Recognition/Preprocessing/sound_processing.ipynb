{
 "cells": [
  {
   "cell_type": "code",
   "execution_count": 2,
   "metadata": {
    "colab": {
     "base_uri": "https://localhost:8080/",
     "height": 108
    },
    "id": "jg9cbQB6_llQ",
    "outputId": "a857b597-2f0c-454a-be7b-0a9b9fae3d49"
   },
   "outputs": [
    {
     "ename": "SyntaxError",
     "evalue": "invalid syntax (<ipython-input-2-bd98be9156fc>, line 8)",
     "output_type": "error",
     "traceback": [
      "\u001b[0;36m  File \u001b[0;32m\"<ipython-input-2-bd98be9156fc>\"\u001b[0;36m, line \u001b[0;32m8\u001b[0m\n\u001b[0;31m    ffmpeg -i 'your video.mp4' 'your video.mp3'\u001b[0m\n\u001b[0m              ^\u001b[0m\n\u001b[0;31mSyntaxError\u001b[0m\u001b[0;31m:\u001b[0m invalid syntax\n"
     ]
    }
   ],
   "source": [
    "import os\n",
    "import librosa\n",
    "import pandas as pd\n",
    "import numpy as np\n",
    "\n",
    "# This commands help you transfer mp4 files to mp3 files if you want to try more sound files\n",
    "# Please fill in your video data location\n",
    "! ffmpeg -i 'your video.mp4' 'your video.mp3'\n",
    "\n",
    "# Place your mp3 converted file into a directory folder, if the folder name is different change it below.\n",
    "audio_folder = './sound'\n",
    "\n",
    "# List all .mp3 files in the folder\n",
    "audio_files = [os.path.join(audio_folder, file) for file in os.listdir(audio_folder) if file.endswith('.mp3')]\n",
    "\n",
    "# Initialize an empty list to store features\n",
    "features_list = []\n",
    "\n",
    "# Iterate over audio files to extract features\n",
    "for file in audio_files:\n",
    "\n",
    "    y_sound, sr_sound = librosa.load(file, sr=None)\n",
    "\n",
    "    # Calculate the mean and standard deviation of amplitude\n",
    "    amplitude_mean = np.mean(np.abs(y))\n",
    "    amplitude_std = np.std(np.abs(y))\n",
    "\n",
    "    # Calculate FFT to extract frequency information\n",
    "    fft = np.fft.fft(y)\n",
    "    magnitude = np.abs(fft)\n",
    "    frequency = np.fft.fftfreq(len(magnitude), 1/sr)\n",
    "    dominant_frequency = frequency[np.argmax(magnitude[:len(magnitude)//2])]\n",
    "\n",
    "    # Extract pitch\n",
    "    pitches, magnitudes = librosa.piptrack(y_sound=y_sound, sr_sound=sr_sound)\n",
    "    # Get average pitch\n",
    "    if np.any(magnitudes):\n",
    "        pitch_mean = np.mean(pitches[magnitudes > np.median(magnitudes)])\n",
    "    else:\n",
    "        pitch_mean = 0\n",
    "\n",
    "    # Calculate Mel spectrogram and convert to decibel units\n",
    "    S = librosa.feature.melspectrogram(y_sound=y_sound, sr_sound=sr_sound)\n",
    "    S_DB = librosa.power_to_db(S, ref=np.max)\n",
    "    mel_spectrogram_mean = np.mean(S_DB)\n",
    "    mel_spectrogram_std = np.std(S_DB)\n",
    "\n",
    "    # Create features and add to the list\n",
    "    features = {\n",
    "        'Filename': os.path.basename(file),\n",
    "        'Amplitude Mean': amplitude_mean,\n",
    "        'Amplitude Std': amplitude_std,\n",
    "        'Dominant Frequency': dominant_frequency,\n",
    "        'Pitch Mean': pitch_mean,\n",
    "        'Mel Spectrogram Mean': mel_spectrogram_mean,\n",
    "        'Mel Spectrogram Std': mel_spectrogram_std,\n",
    "    }\n",
    "\n",
    "    features_list.append(features)\n",
    "\n",
    "features_df = pd.DataFrame(features_list)\n",
    "\n",
    "print(features_df.head())\n",
    "\n",
    "# Save the DataFrame to a CSV file\n",
    "features_df.to_csv('audio_features.csv', index=False)\n"
   ]
  }
 ],
 "metadata": {
  "colab": {
   "provenance": []
  },
  "kernelspec": {
   "display_name": "Python 3 (ipykernel)",
   "language": "python",
   "name": "python3"
  },
  "language_info": {
   "codemirror_mode": {
    "name": "ipython",
    "version": 3
   },
   "file_extension": ".py",
   "mimetype": "text/x-python",
   "name": "python",
   "nbconvert_exporter": "python",
   "pygments_lexer": "ipython3",
   "version": "3.10.9"
  }
 },
 "nbformat": 4,
 "nbformat_minor": 1
}
